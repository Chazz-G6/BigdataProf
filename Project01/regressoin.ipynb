{
 "cells": [
  {
   "cell_type": "code",
   "execution_count": 10,
   "metadata": {},
   "outputs": [],
   "source": [
    "import pandas as pd\n",
    "import numpy as np\n",
    "\n",
    "from sklearn import datasets\n",
    "data = datasets.load_diabetes()"
   ]
  },
  {
   "cell_type": "code",
   "execution_count": 11,
   "metadata": {},
   "outputs": [
    {
     "data": {
      "text/plain": [
       "dict_keys(['data', 'target', 'frame', 'DESCR', 'feature_names', 'data_filename', 'target_filename', 'data_module'])"
      ]
     },
     "execution_count": 11,
     "metadata": {},
     "output_type": "execute_result"
    }
   ],
   "source": [
    "data.keys()"
   ]
  },
  {
   "cell_type": "code",
   "execution_count": 12,
   "metadata": {},
   "outputs": [
    {
     "data": {
      "text/plain": [
       "(442, 10)"
      ]
     },
     "execution_count": 12,
     "metadata": {},
     "output_type": "execute_result"
    }
   ],
   "source": [
    "data['data'].shape"
   ]
  },
  {
   "cell_type": "code",
   "execution_count": 13,
   "metadata": {},
   "outputs": [
    {
     "data": {
      "text/plain": [
       "(442,)"
      ]
     },
     "execution_count": 13,
     "metadata": {},
     "output_type": "execute_result"
    }
   ],
   "source": [
    "data['target'].shape"
   ]
  },
  {
   "cell_type": "code",
   "execution_count": 14,
   "metadata": {},
   "outputs": [
    {
     "data": {
      "text/plain": [
       "10"
      ]
     },
     "execution_count": 14,
     "metadata": {},
     "output_type": "execute_result"
    }
   ],
   "source": [
    "len(data['feature_names'])"
   ]
  },
  {
   "cell_type": "code",
   "execution_count": 15,
   "metadata": {},
   "outputs": [
    {
     "data": {
      "text/html": [
       "<div>\n",
       "<style scoped>\n",
       "    .dataframe tbody tr th:only-of-type {\n",
       "        vertical-align: middle;\n",
       "    }\n",
       "\n",
       "    .dataframe tbody tr th {\n",
       "        vertical-align: top;\n",
       "    }\n",
       "\n",
       "    .dataframe thead th {\n",
       "        text-align: right;\n",
       "    }\n",
       "</style>\n",
       "<table border=\"1\" class=\"dataframe\">\n",
       "  <thead>\n",
       "    <tr style=\"text-align: right;\">\n",
       "      <th></th>\n",
       "      <th>age</th>\n",
       "      <th>sex</th>\n",
       "      <th>bmi</th>\n",
       "      <th>bp</th>\n",
       "      <th>s1</th>\n",
       "      <th>s2</th>\n",
       "      <th>s3</th>\n",
       "      <th>s4</th>\n",
       "      <th>s5</th>\n",
       "      <th>s6</th>\n",
       "    </tr>\n",
       "  </thead>\n",
       "  <tbody>\n",
       "    <tr>\n",
       "      <th>151.0</th>\n",
       "      <td>0.038076</td>\n",
       "      <td>0.050680</td>\n",
       "      <td>0.061696</td>\n",
       "      <td>0.021872</td>\n",
       "      <td>-0.044223</td>\n",
       "      <td>-0.034821</td>\n",
       "      <td>-0.043401</td>\n",
       "      <td>-0.002592</td>\n",
       "      <td>0.019908</td>\n",
       "      <td>-0.017646</td>\n",
       "    </tr>\n",
       "    <tr>\n",
       "      <th>75.0</th>\n",
       "      <td>-0.001882</td>\n",
       "      <td>-0.044642</td>\n",
       "      <td>-0.051474</td>\n",
       "      <td>-0.026328</td>\n",
       "      <td>-0.008449</td>\n",
       "      <td>-0.019163</td>\n",
       "      <td>0.074412</td>\n",
       "      <td>-0.039493</td>\n",
       "      <td>-0.068330</td>\n",
       "      <td>-0.092204</td>\n",
       "    </tr>\n",
       "    <tr>\n",
       "      <th>141.0</th>\n",
       "      <td>0.085299</td>\n",
       "      <td>0.050680</td>\n",
       "      <td>0.044451</td>\n",
       "      <td>-0.005671</td>\n",
       "      <td>-0.045599</td>\n",
       "      <td>-0.034194</td>\n",
       "      <td>-0.032356</td>\n",
       "      <td>-0.002592</td>\n",
       "      <td>0.002864</td>\n",
       "      <td>-0.025930</td>\n",
       "    </tr>\n",
       "    <tr>\n",
       "      <th>206.0</th>\n",
       "      <td>-0.089063</td>\n",
       "      <td>-0.044642</td>\n",
       "      <td>-0.011595</td>\n",
       "      <td>-0.036656</td>\n",
       "      <td>0.012191</td>\n",
       "      <td>0.024991</td>\n",
       "      <td>-0.036038</td>\n",
       "      <td>0.034309</td>\n",
       "      <td>0.022692</td>\n",
       "      <td>-0.009362</td>\n",
       "    </tr>\n",
       "    <tr>\n",
       "      <th>135.0</th>\n",
       "      <td>0.005383</td>\n",
       "      <td>-0.044642</td>\n",
       "      <td>-0.036385</td>\n",
       "      <td>0.021872</td>\n",
       "      <td>0.003935</td>\n",
       "      <td>0.015596</td>\n",
       "      <td>0.008142</td>\n",
       "      <td>-0.002592</td>\n",
       "      <td>-0.031991</td>\n",
       "      <td>-0.046641</td>\n",
       "    </tr>\n",
       "    <tr>\n",
       "      <th>...</th>\n",
       "      <td>...</td>\n",
       "      <td>...</td>\n",
       "      <td>...</td>\n",
       "      <td>...</td>\n",
       "      <td>...</td>\n",
       "      <td>...</td>\n",
       "      <td>...</td>\n",
       "      <td>...</td>\n",
       "      <td>...</td>\n",
       "      <td>...</td>\n",
       "    </tr>\n",
       "    <tr>\n",
       "      <th>178.0</th>\n",
       "      <td>0.041708</td>\n",
       "      <td>0.050680</td>\n",
       "      <td>0.019662</td>\n",
       "      <td>0.059744</td>\n",
       "      <td>-0.005697</td>\n",
       "      <td>-0.002566</td>\n",
       "      <td>-0.028674</td>\n",
       "      <td>-0.002592</td>\n",
       "      <td>0.031193</td>\n",
       "      <td>0.007207</td>\n",
       "    </tr>\n",
       "    <tr>\n",
       "      <th>104.0</th>\n",
       "      <td>-0.005515</td>\n",
       "      <td>0.050680</td>\n",
       "      <td>-0.015906</td>\n",
       "      <td>-0.067642</td>\n",
       "      <td>0.049341</td>\n",
       "      <td>0.079165</td>\n",
       "      <td>-0.028674</td>\n",
       "      <td>0.034309</td>\n",
       "      <td>-0.018118</td>\n",
       "      <td>0.044485</td>\n",
       "    </tr>\n",
       "    <tr>\n",
       "      <th>132.0</th>\n",
       "      <td>0.041708</td>\n",
       "      <td>0.050680</td>\n",
       "      <td>-0.015906</td>\n",
       "      <td>0.017282</td>\n",
       "      <td>-0.037344</td>\n",
       "      <td>-0.013840</td>\n",
       "      <td>-0.024993</td>\n",
       "      <td>-0.011080</td>\n",
       "      <td>-0.046879</td>\n",
       "      <td>0.015491</td>\n",
       "    </tr>\n",
       "    <tr>\n",
       "      <th>220.0</th>\n",
       "      <td>-0.045472</td>\n",
       "      <td>-0.044642</td>\n",
       "      <td>0.039062</td>\n",
       "      <td>0.001215</td>\n",
       "      <td>0.016318</td>\n",
       "      <td>0.015283</td>\n",
       "      <td>-0.028674</td>\n",
       "      <td>0.026560</td>\n",
       "      <td>0.044528</td>\n",
       "      <td>-0.025930</td>\n",
       "    </tr>\n",
       "    <tr>\n",
       "      <th>57.0</th>\n",
       "      <td>-0.045472</td>\n",
       "      <td>-0.044642</td>\n",
       "      <td>-0.073030</td>\n",
       "      <td>-0.081414</td>\n",
       "      <td>0.083740</td>\n",
       "      <td>0.027809</td>\n",
       "      <td>0.173816</td>\n",
       "      <td>-0.039493</td>\n",
       "      <td>-0.004220</td>\n",
       "      <td>0.003064</td>\n",
       "    </tr>\n",
       "  </tbody>\n",
       "</table>\n",
       "<p>442 rows × 10 columns</p>\n",
       "</div>"
      ],
      "text/plain": [
       "            age       sex       bmi        bp        s1        s2        s3  \\\n",
       "151.0  0.038076  0.050680  0.061696  0.021872 -0.044223 -0.034821 -0.043401   \n",
       "75.0  -0.001882 -0.044642 -0.051474 -0.026328 -0.008449 -0.019163  0.074412   \n",
       "141.0  0.085299  0.050680  0.044451 -0.005671 -0.045599 -0.034194 -0.032356   \n",
       "206.0 -0.089063 -0.044642 -0.011595 -0.036656  0.012191  0.024991 -0.036038   \n",
       "135.0  0.005383 -0.044642 -0.036385  0.021872  0.003935  0.015596  0.008142   \n",
       "...         ...       ...       ...       ...       ...       ...       ...   \n",
       "178.0  0.041708  0.050680  0.019662  0.059744 -0.005697 -0.002566 -0.028674   \n",
       "104.0 -0.005515  0.050680 -0.015906 -0.067642  0.049341  0.079165 -0.028674   \n",
       "132.0  0.041708  0.050680 -0.015906  0.017282 -0.037344 -0.013840 -0.024993   \n",
       "220.0 -0.045472 -0.044642  0.039062  0.001215  0.016318  0.015283 -0.028674   \n",
       "57.0  -0.045472 -0.044642 -0.073030 -0.081414  0.083740  0.027809  0.173816   \n",
       "\n",
       "             s4        s5        s6  \n",
       "151.0 -0.002592  0.019908 -0.017646  \n",
       "75.0  -0.039493 -0.068330 -0.092204  \n",
       "141.0 -0.002592  0.002864 -0.025930  \n",
       "206.0  0.034309  0.022692 -0.009362  \n",
       "135.0 -0.002592 -0.031991 -0.046641  \n",
       "...         ...       ...       ...  \n",
       "178.0 -0.002592  0.031193  0.007207  \n",
       "104.0  0.034309 -0.018118  0.044485  \n",
       "132.0 -0.011080 -0.046879  0.015491  \n",
       "220.0  0.026560  0.044528 -0.025930  \n",
       "57.0  -0.039493 -0.004220  0.003064  \n",
       "\n",
       "[442 rows x 10 columns]"
      ]
     },
     "execution_count": 15,
     "metadata": {},
     "output_type": "execute_result"
    }
   ],
   "source": [
    "df = pd.DataFrame(data['data'], index=data['target'], columns=data['feature_names'])\n",
    "df"
   ]
  },
  {
   "cell_type": "code",
   "execution_count": 16,
   "metadata": {},
   "outputs": [],
   "source": [
    "from sklearn.linear_model import LinearRegression\n",
    "lr = LinearRegression()"
   ]
  },
  {
   "cell_type": "code",
   "execution_count": 18,
   "metadata": {},
   "outputs": [
    {
     "data": {
      "text/plain": [
       "array([151.,  75., 141., 206., 135.,  97., 138.,  63., 110., 310., 101.,\n",
       "        69., 179., 185., 118., 171., 166., 144.,  97., 168.,  68.,  49.,\n",
       "        68., 245., 184., 202., 137.,  85., 131., 283., 129.,  59., 341.,\n",
       "        87.,  65., 102., 265., 276., 252.,  90., 100.,  55.,  61.,  92.,\n",
       "       259.,  53., 190., 142.,  75., 142., 155., 225.,  59., 104., 182.,\n",
       "       128.,  52.,  37., 170., 170.,  61., 144.,  52., 128.,  71., 163.,\n",
       "       150.,  97., 160., 178.,  48., 270., 202., 111.,  85.,  42., 170.,\n",
       "       200., 252., 113., 143.,  51.,  52., 210.,  65., 141.,  55., 134.,\n",
       "        42., 111.,  98., 164.,  48.,  96.,  90., 162., 150., 279.,  92.,\n",
       "        83., 128., 102., 302., 198.,  95.,  53., 134., 144., 232.,  81.,\n",
       "       104.,  59., 246., 297., 258., 229., 275., 281., 179., 200., 200.,\n",
       "       173., 180.,  84., 121., 161.,  99., 109., 115., 268., 274., 158.,\n",
       "       107.,  83., 103., 272.,  85., 280., 336., 281., 118., 317., 235.,\n",
       "        60., 174., 259., 178., 128.,  96., 126., 288.,  88., 292.,  71.,\n",
       "       197., 186.,  25.,  84.,  96., 195.,  53., 217., 172., 131., 214.,\n",
       "        59.,  70., 220., 268., 152.,  47.,  74., 295., 101., 151., 127.,\n",
       "       237., 225.,  81., 151., 107.,  64., 138., 185., 265., 101., 137.,\n",
       "       143., 141.,  79., 292., 178.,  91., 116.,  86., 122.,  72., 129.,\n",
       "       142.,  90., 158.,  39., 196., 222., 277.,  99., 196., 202., 155.,\n",
       "        77., 191.,  70.,  73.,  49.,  65., 263., 248., 296., 214., 185.,\n",
       "        78.,  93., 252., 150.,  77., 208.,  77., 108., 160.,  53., 220.,\n",
       "       154., 259.,  90., 246., 124.,  67.,  72., 257., 262., 275., 177.,\n",
       "        71.,  47., 187., 125.,  78.,  51., 258., 215., 303., 243.,  91.,\n",
       "       150., 310., 153., 346.,  63.,  89.,  50.,  39., 103., 308., 116.,\n",
       "       145.,  74.,  45., 115., 264.,  87., 202., 127., 182., 241.,  66.,\n",
       "        94., 283.,  64., 102., 200., 265.,  94., 230., 181., 156., 233.,\n",
       "        60., 219.,  80.,  68., 332., 248.,  84., 200.,  55.,  85.,  89.,\n",
       "        31., 129.,  83., 275.,  65., 198., 236., 253., 124.,  44., 172.,\n",
       "       114., 142., 109., 180., 144., 163., 147.,  97., 220., 190., 109.,\n",
       "       191., 122., 230., 242., 248., 249., 192., 131., 237.,  78., 135.,\n",
       "       244., 199., 270., 164.,  72.,  96., 306.,  91., 214.,  95., 216.,\n",
       "       263., 178., 113., 200., 139., 139.,  88., 148.,  88., 243.,  71.,\n",
       "        77., 109., 272.,  60.,  54., 221.,  90., 311., 281., 182., 321.,\n",
       "        58., 262., 206., 233., 242., 123., 167.,  63., 197.,  71., 168.,\n",
       "       140., 217., 121., 235., 245.,  40.,  52., 104., 132.,  88.,  69.,\n",
       "       219.,  72., 201., 110.,  51., 277.,  63., 118.,  69., 273., 258.,\n",
       "        43., 198., 242., 232., 175.,  93., 168., 275., 293., 281.,  72.,\n",
       "       140., 189., 181., 209., 136., 261., 113., 131., 174., 257.,  55.,\n",
       "        84.,  42., 146., 212., 233.,  91., 111., 152., 120.,  67., 310.,\n",
       "        94., 183.,  66., 173.,  72.,  49.,  64.,  48., 178., 104., 132.,\n",
       "       220.,  57.])"
      ]
     },
     "execution_count": 18,
     "metadata": {},
     "output_type": "execute_result"
    }
   ],
   "source": [
    "Y = df.index.values\n",
    "Y"
   ]
  },
  {
   "cell_type": "code",
   "execution_count": 20,
   "metadata": {},
   "outputs": [
    {
     "data": {
      "text/plain": [
       "array([ 0.06169621, -0.05147406,  0.04445121, -0.01159501, -0.03638469,\n",
       "       -0.04069594, -0.04716281, -0.00189471,  0.06169621,  0.03906215,\n",
       "       -0.08380842,  0.01750591, -0.02884001, -0.00189471, -0.02560657,\n",
       "       -0.01806189,  0.04229559,  0.01211685, -0.0105172 , -0.01806189,\n",
       "       -0.05686312, -0.02237314, -0.00405033,  0.06061839,  0.03582872,\n",
       "       -0.01267283, -0.07734155,  0.05954058, -0.02129532, -0.00620595,\n",
       "        0.04445121, -0.06548562,  0.12528712, -0.05039625, -0.06332999,\n",
       "       -0.03099563,  0.02289497,  0.01103904,  0.07139652,  0.01427248,\n",
       "       -0.00836158, -0.06764124, -0.0105172 , -0.02345095,  0.06816308,\n",
       "       -0.03530688, -0.01159501, -0.0730303 , -0.04177375,  0.01427248,\n",
       "       -0.00728377,  0.0164281 , -0.00943939, -0.01590626,  0.0250506 ,\n",
       "       -0.04931844,  0.04121778, -0.06332999, -0.06440781, -0.02560657,\n",
       "       -0.00405033,  0.00457217, -0.00728377, -0.0374625 , -0.02560657,\n",
       "       -0.02452876, -0.01806189, -0.01482845, -0.02991782, -0.046085  ,\n",
       "       -0.06979687,  0.03367309, -0.00405033, -0.02021751,  0.00241654,\n",
       "       -0.03099563,  0.02828403, -0.03638469, -0.05794093, -0.0374625 ,\n",
       "        0.01211685, -0.02237314, -0.03530688,  0.00996123, -0.03961813,\n",
       "        0.07139652, -0.07518593, -0.00620595, -0.04069594, -0.04824063,\n",
       "       -0.02560657,  0.0519959 ,  0.00457217, -0.06440781, -0.01698407,\n",
       "       -0.05794093,  0.00996123,  0.08864151, -0.00512814, -0.06440781,\n",
       "        0.01750591, -0.04500719,  0.02828403,  0.04121778,  0.06492964,\n",
       "       -0.03207344, -0.07626374,  0.04984027,  0.04552903, -0.00943939,\n",
       "       -0.03207344,  0.00457217,  0.02073935,  0.01427248,  0.11019775,\n",
       "        0.00133873,  0.05846277, -0.02129532, -0.0105172 , -0.04716281,\n",
       "        0.00457217,  0.01750591,  0.08109682,  0.0347509 ,  0.02397278,\n",
       "       -0.00836158, -0.06117437, -0.00189471, -0.06225218,  0.0164281 ,\n",
       "        0.09618619, -0.06979687, -0.02129532, -0.05362969,  0.0433734 ,\n",
       "        0.05630715, -0.0816528 ,  0.04984027,  0.11127556,  0.06169621,\n",
       "        0.01427248,  0.04768465,  0.01211685,  0.00564998,  0.04660684,\n",
       "        0.12852056,  0.05954058,  0.09295276,  0.01535029, -0.00512814,\n",
       "        0.0703187 , -0.00405033, -0.00081689, -0.04392938,  0.02073935,\n",
       "        0.06061839, -0.0105172 , -0.03315126, -0.06548562,  0.0433734 ,\n",
       "       -0.06225218,  0.06385183,  0.03043966,  0.07247433, -0.0191397 ,\n",
       "       -0.06656343, -0.06009656,  0.06924089,  0.05954058, -0.02668438,\n",
       "       -0.02021751, -0.046085  ,  0.07139652, -0.07949718,  0.00996123,\n",
       "       -0.03854032,  0.01966154,  0.02720622, -0.00836158, -0.01590626,\n",
       "        0.00457217, -0.04285156,  0.00564998, -0.03530688,  0.02397278,\n",
       "       -0.01806189,  0.04229559, -0.0547075 , -0.00297252, -0.06656343,\n",
       "       -0.01267283, -0.04177375, -0.03099563, -0.00512814, -0.05901875,\n",
       "        0.0250506 , -0.046085  ,  0.00349435,  0.05415152, -0.04500719,\n",
       "       -0.05794093, -0.05578531,  0.00133873,  0.03043966,  0.00672779,\n",
       "        0.04660684,  0.02612841,  0.04552903,  0.04013997, -0.01806189,\n",
       "        0.01427248,  0.03690653,  0.00349435, -0.07087468, -0.03315126,\n",
       "        0.09403057,  0.03582872,  0.03151747, -0.06548562, -0.04177375,\n",
       "       -0.03961813, -0.03854032, -0.02560657, -0.02345095, -0.06656343,\n",
       "        0.03259528, -0.046085  , -0.02991782, -0.01267283, -0.01590626,\n",
       "        0.07139652, -0.03099563,  0.00026092,  0.03690653,  0.03906215,\n",
       "       -0.01482845,  0.00672779, -0.06871905, -0.00943939,  0.01966154,\n",
       "        0.07462995, -0.00836158, -0.02345095, -0.046085  ,  0.05415152,\n",
       "       -0.03530688, -0.03207344, -0.0816528 ,  0.04768465,  0.06061839,\n",
       "        0.05630715,  0.09834182,  0.05954058,  0.03367309,  0.05630715,\n",
       "       -0.06548562,  0.16085492, -0.05578531, -0.02452876, -0.03638469,\n",
       "       -0.00836158, -0.04177375,  0.12744274, -0.07734155,  0.02828403,\n",
       "       -0.02560657, -0.06225218, -0.00081689,  0.08864151, -0.03207344,\n",
       "        0.03043966,  0.00888341,  0.00672779, -0.02021751, -0.02452876,\n",
       "       -0.01159501,  0.02612841, -0.05901875, -0.03638469, -0.02452876,\n",
       "        0.01858372, -0.0902753 , -0.00512814, -0.05255187, -0.02237314,\n",
       "       -0.02021751, -0.0547075 , -0.00620595, -0.01698407,  0.05522933,\n",
       "        0.07678558,  0.01858372, -0.02237314,  0.09295276, -0.03099563,\n",
       "        0.03906215, -0.06117437, -0.00836158, -0.0374625 , -0.01375064,\n",
       "        0.07355214, -0.02452876,  0.03367309,  0.0347509 , -0.03854032,\n",
       "       -0.03961813, -0.00189471, -0.03099563, -0.046085  ,  0.00133873,\n",
       "        0.06492964,  0.04013997, -0.02345095,  0.05307371,  0.04013997,\n",
       "       -0.02021751,  0.01427248, -0.03422907,  0.00672779,  0.00457217,\n",
       "        0.03043966,  0.0519959 ,  0.06169621, -0.00728377,  0.00564998,\n",
       "        0.05415152, -0.00836158,  0.114509  ,  0.06708527, -0.05578531,\n",
       "        0.03043966, -0.02560657,  0.10480869, -0.00620595, -0.04716281,\n",
       "       -0.04824063,  0.08540807, -0.01267283, -0.03315126, -0.00728377,\n",
       "       -0.01375064,  0.05954058,  0.02181716,  0.01858372, -0.01159501,\n",
       "       -0.00297252,  0.01750591, -0.02991782, -0.02021751, -0.05794093,\n",
       "        0.06061839, -0.04069594, -0.07195249, -0.05578531,  0.04552903,\n",
       "       -0.00943939, -0.03315126,  0.04984027, -0.08488624,  0.00564998,\n",
       "        0.02073935, -0.00728377,  0.10480869, -0.02452876, -0.00620595,\n",
       "       -0.03854032,  0.13714305,  0.17055523,  0.00241654,  0.03798434,\n",
       "       -0.05794093, -0.00943939, -0.02345095, -0.0105172 , -0.03422907,\n",
       "       -0.00297252,  0.06816308,  0.00996123,  0.00241654, -0.03854032,\n",
       "        0.02612841, -0.08919748,  0.06061839, -0.02884001, -0.02991782,\n",
       "       -0.0191397 , -0.04069594,  0.01535029, -0.02452876,  0.00133873,\n",
       "        0.06924089, -0.06979687, -0.02991782, -0.046085  ,  0.01858372,\n",
       "        0.00133873, -0.03099563, -0.00405033,  0.01535029,  0.02289497,\n",
       "        0.04552903, -0.04500719, -0.03315126,  0.097264  ,  0.05415152,\n",
       "        0.12313149, -0.08057499,  0.09295276, -0.05039625, -0.01159501,\n",
       "       -0.0277622 ,  0.05846277,  0.08540807, -0.00081689,  0.00672779,\n",
       "        0.00888341,  0.08001901,  0.07139652, -0.02452876, -0.0547075 ,\n",
       "       -0.03638469,  0.0164281 ,  0.07786339, -0.03961813,  0.01103904,\n",
       "       -0.04069594, -0.03422907,  0.00564998,  0.08864151, -0.03315126,\n",
       "       -0.05686312, -0.03099563,  0.05522933, -0.06009656,  0.00133873,\n",
       "       -0.02345095, -0.07410811,  0.01966154, -0.01590626, -0.01590626,\n",
       "        0.03906215, -0.0730303 ])"
      ]
     },
     "execution_count": 20,
     "metadata": {},
     "output_type": "execute_result"
    }
   ],
   "source": [
    "X = df.bmi.values\n",
    "X"
   ]
  },
  {
   "cell_type": "code",
   "execution_count": 21,
   "metadata": {},
   "outputs": [],
   "source": [
    "X = X.reshape(-1,1)\n",
    "Y = Y.reshape(-1,1)"
   ]
  },
  {
   "cell_type": "code",
   "execution_count": 24,
   "metadata": {},
   "outputs": [
    {
     "data": {
      "text/plain": [
       "LinearRegression()"
      ]
     },
     "execution_count": 24,
     "metadata": {},
     "output_type": "execute_result"
    }
   ],
   "source": [
    "lr.fit(X, Y)"
   ]
  },
  {
   "cell_type": "code",
   "execution_count": 25,
   "metadata": {},
   "outputs": [
    {
     "name": "stdout",
     "output_type": "stream",
     "text": [
      "[949.43526038]\n",
      "[152.13348416]\n"
     ]
    }
   ],
   "source": [
    "print (lr.coef_[0])\n",
    "print (lr.intercept_)"
   ]
  },
  {
   "cell_type": "code",
   "execution_count": 28,
   "metadata": {},
   "outputs": [
    {
     "ename": "NameError",
     "evalue": "name 'Y2' is not defined",
     "output_type": "error",
     "traceback": [
      "\u001b[1;31m---------------------------------------------------------------------------\u001b[0m",
      "\u001b[1;31mNameError\u001b[0m                                 Traceback (most recent call last)",
      "\u001b[1;32m~\\AppData\\Local\\Temp/ipykernel_7300/1334180527.py\u001b[0m in \u001b[0;36m<module>\u001b[1;34m\u001b[0m\n\u001b[0;32m      1\u001b[0m \u001b[1;32mimport\u001b[0m \u001b[0mmatplotlib\u001b[0m\u001b[1;33m.\u001b[0m\u001b[0mpyplot\u001b[0m \u001b[1;32mas\u001b[0m \u001b[0mplt\u001b[0m\u001b[1;33m\u001b[0m\u001b[1;33m\u001b[0m\u001b[0m\n\u001b[0;32m      2\u001b[0m \u001b[0mplt\u001b[0m\u001b[1;33m.\u001b[0m\u001b[0mscatter\u001b[0m\u001b[1;33m(\u001b[0m\u001b[0mX\u001b[0m\u001b[1;33m,\u001b[0m \u001b[0mY\u001b[0m\u001b[1;33m)\u001b[0m\u001b[1;33m\u001b[0m\u001b[1;33m\u001b[0m\u001b[0m\n\u001b[1;32m----> 3\u001b[1;33m \u001b[0mplt\u001b[0m\u001b[1;33m.\u001b[0m\u001b[0mplot\u001b[0m\u001b[1;33m(\u001b[0m\u001b[0mX\u001b[0m\u001b[1;33m,\u001b[0m \u001b[0mY2\u001b[0m\u001b[1;33m,\u001b[0m \u001b[0mcolor\u001b[0m\u001b[1;33m=\u001b[0m\u001b[1;34m'red'\u001b[0m\u001b[1;33m)\u001b[0m\u001b[1;33m\u001b[0m\u001b[1;33m\u001b[0m\u001b[0m\n\u001b[0m\u001b[0;32m      4\u001b[0m \u001b[0mplt\u001b[0m\u001b[1;33m.\u001b[0m\u001b[0mtitle\u001b[0m\u001b[1;33m(\u001b[0m\u001b[1;34m'y = {}*x + {}'\u001b[0m\u001b[1;33m.\u001b[0m\u001b[0mformat\u001b[0m\u001b[1;33m(\u001b[0m\u001b[0mlr\u001b[0m\u001b[1;33m.\u001b[0m\u001b[0mcoef_\u001b[0m\u001b[1;33m[\u001b[0m\u001b[1;36m0\u001b[0m\u001b[1;33m]\u001b[0m\u001b[1;33m,\u001b[0m \u001b[0mlr\u001b[0m\u001b[1;33m.\u001b[0m\u001b[0mintercept_\u001b[0m\u001b[1;33m)\u001b[0m\u001b[1;33m)\u001b[0m\u001b[1;33m\u001b[0m\u001b[1;33m\u001b[0m\u001b[0m\n\u001b[0;32m      5\u001b[0m \u001b[0mplt\u001b[0m\u001b[1;33m.\u001b[0m\u001b[0mshow\u001b[0m\u001b[1;33m(\u001b[0m\u001b[1;33m)\u001b[0m\u001b[1;33m\u001b[0m\u001b[1;33m\u001b[0m\u001b[0m\n",
      "\u001b[1;31mNameError\u001b[0m: name 'Y2' is not defined"
     ]
    },
    {
     "data": {
      "image/png": "[encoded data removed]",
      "text/plain": [
       "<Figure size 432x288 with 1 Axes>"
      ]
     },
     "metadata": {
      "needs_background": "light"
     },
     "output_type": "display_data"
    }
   ],
   "source": [
    "import matplotlib.pyplot as plt\n",
    "plt.scatter(X, Y)\n",
    "plt.plot(X, Y2, color='red')\n",
    "plt.title('y = {}*x + {}'.format(lr.coef_[0], lr.intercept_))\n",
    "plt.show()"
   ]
  },
  {
   "cell_type": "code",
   "execution_count": null,
   "metadata": {},
   "outputs": [],
   "source": []
  }
 ],
 "metadata": {
  "interpreter": {
   "hash": "6f5583cf1d9466b5c27e75c89cc6b383bed5736d6b16c51c8074d8690011a952"
  },
  "kernelspec": {
   "display_name": "Python 3.9.7 ('base')",
   "language": "python",
   "name": "python3"
  },
  "language_info": {
   "codemirror_mode": {
    "name": "ipython",
    "version": 3
   },
   "file_extension": ".py",
   "mimetype": "text/x-python",
   "name": "python",
   "nbconvert_exporter": "python",
   "pygments_lexer": "ipython3",
   "version": "3.9.7"
  },
  "orig_nbformat": 4
 },
 "nbformat": 4,
 "nbformat_minor": 2
}
